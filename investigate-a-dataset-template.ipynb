{
 "cells": [
  {
   "cell_type": "markdown",
   "metadata": {},
   "source": [
    "# Project: Evaluation GDP per sector for several countries\n",
    "\n",
    "## Table of Contents\n",
    "\n",
    "<ul>\n",
    "<li><a href=\"#intro\">Introduction</a></li>\n",
    "<li><a href=\"#wrangling\">Data Wrangling</a></li>\n",
    "<li><a href=\"#eda\">Exploratory Data Analysis</a></li>\n",
    "<li><a href=\"#conclusions\">Conclusions</a></li>\n",
    "</ul>"
   ]
  },
  {
   "cell_type": "markdown",
   "metadata": {},
   "source": [
    "<a id='intro'></a>\n",
    "## Introduction"
   ]
  },
  {
   "cell_type": "markdown",
   "metadata": {},
   "source": [
    "In the present project, four variable will be analysed. The first three refers to the economy sectors: agriculture, industry, and services; the last one is the GDP per capita; Based on those data the following questions will be enseared:\n",
    "\n",
    "* From where the richness of the countries come from?\n",
    "* Which countries had the most increase in the GDP/per capita over the past 5 decades?"
   ]
  },
  {
   "cell_type": "code",
   "execution_count": 1,
   "metadata": {},
   "outputs": [],
   "source": [
    "import numpy as np\n",
    "import pandas as pd\n",
    "import matplotlib.pyplot as plt\n",
    "%matplotlib inline\n",
    "import seaborn as sns\n",
    "sns.set_theme(style='white')"
   ]
  },
  {
   "cell_type": "markdown",
   "metadata": {},
   "source": [
    "<a id='wrangling'></a>\n",
    "## Data Wrangling\n",
    "\n",
    "\n",
    "### General Properties"
   ]
  },
  {
   "cell_type": "markdown",
   "metadata": {},
   "source": [
    "#### Sector databases\n",
    "The economy GDP is divided into three sectors: agriculture, industry, and services.\n",
    "\n",
    "For all three sectors, the value add is the net output of a sector after adding up all outputs and subtracting intermediate inputs. It is calculated without making deductions for depreciation of fabricated assets or depletion and degradation of natural resources. The origin of value added is determined by the International Standard Industrial Classification (ISIC), revision 3. Note: For VAB countries, gross value added at factor cost is used as the denominator."
   ]
  },
  {
   "cell_type": "markdown",
   "metadata": {},
   "source": [
    "##### Agriculture (% of GDP)\n",
    "*description*: Agriculture corresponds to ISIC divisions 1-5 and includes forestry, hunting, and fishing, as well as cultivation of crops and livestock production. \n",
    "\n",
    "*source link*: https://data.worldbank.org/indicator/NV.AGR.TOTL.ZS"
   ]
  },
  {
   "cell_type": "code",
   "execution_count": 2,
   "metadata": {
    "scrolled": false
   },
   "outputs": [
    {
     "data": {
      "text/html": [
       "<div>\n",
       "<style scoped>\n",
       "    .dataframe tbody tr th:only-of-type {\n",
       "        vertical-align: middle;\n",
       "    }\n",
       "\n",
       "    .dataframe tbody tr th {\n",
       "        vertical-align: top;\n",
       "    }\n",
       "\n",
       "    .dataframe thead th {\n",
       "        text-align: right;\n",
       "    }\n",
       "</style>\n",
       "<table border=\"1\" class=\"dataframe\">\n",
       "  <thead>\n",
       "    <tr style=\"text-align: right;\">\n",
       "      <th></th>\n",
       "      <th>1960</th>\n",
       "      <th>1961</th>\n",
       "      <th>1962</th>\n",
       "      <th>1963</th>\n",
       "      <th>1964</th>\n",
       "      <th>1965</th>\n",
       "      <th>1966</th>\n",
       "      <th>1967</th>\n",
       "      <th>1968</th>\n",
       "      <th>1969</th>\n",
       "      <th>...</th>\n",
       "      <th>2010</th>\n",
       "      <th>2011</th>\n",
       "      <th>2012</th>\n",
       "      <th>2013</th>\n",
       "      <th>2014</th>\n",
       "      <th>2015</th>\n",
       "      <th>2016</th>\n",
       "      <th>2017</th>\n",
       "      <th>2018</th>\n",
       "      <th>2019</th>\n",
       "    </tr>\n",
       "    <tr>\n",
       "      <th>country</th>\n",
       "      <th></th>\n",
       "      <th></th>\n",
       "      <th></th>\n",
       "      <th></th>\n",
       "      <th></th>\n",
       "      <th></th>\n",
       "      <th></th>\n",
       "      <th></th>\n",
       "      <th></th>\n",
       "      <th></th>\n",
       "      <th></th>\n",
       "      <th></th>\n",
       "      <th></th>\n",
       "      <th></th>\n",
       "      <th></th>\n",
       "      <th></th>\n",
       "      <th></th>\n",
       "      <th></th>\n",
       "      <th></th>\n",
       "      <th></th>\n",
       "      <th></th>\n",
       "    </tr>\n",
       "  </thead>\n",
       "  <tbody>\n",
       "    <tr>\n",
       "      <th>Afghanistan</th>\n",
       "      <td>NaN</td>\n",
       "      <td>NaN</td>\n",
       "      <td>NaN</td>\n",
       "      <td>NaN</td>\n",
       "      <td>NaN</td>\n",
       "      <td>NaN</td>\n",
       "      <td>NaN</td>\n",
       "      <td>NaN</td>\n",
       "      <td>NaN</td>\n",
       "      <td>NaN</td>\n",
       "      <td>...</td>\n",
       "      <td>0.2620</td>\n",
       "      <td>0.2370</td>\n",
       "      <td>0.2440</td>\n",
       "      <td>0.2280</td>\n",
       "      <td>0.221</td>\n",
       "      <td>0.206</td>\n",
       "      <td>0.211</td>\n",
       "      <td>0.205</td>\n",
       "      <td>0.203</td>\n",
       "      <td>0.211</td>\n",
       "    </tr>\n",
       "    <tr>\n",
       "      <th>Albania</th>\n",
       "      <td>NaN</td>\n",
       "      <td>NaN</td>\n",
       "      <td>NaN</td>\n",
       "      <td>NaN</td>\n",
       "      <td>NaN</td>\n",
       "      <td>NaN</td>\n",
       "      <td>NaN</td>\n",
       "      <td>NaN</td>\n",
       "      <td>NaN</td>\n",
       "      <td>NaN</td>\n",
       "      <td>...</td>\n",
       "      <td>0.1800</td>\n",
       "      <td>0.1820</td>\n",
       "      <td>0.1880</td>\n",
       "      <td>0.1960</td>\n",
       "      <td>0.200</td>\n",
       "      <td>0.198</td>\n",
       "      <td>0.198</td>\n",
       "      <td>0.190</td>\n",
       "      <td>0.184</td>\n",
       "      <td>0.186</td>\n",
       "    </tr>\n",
       "    <tr>\n",
       "      <th>Algeria</th>\n",
       "      <td>NaN</td>\n",
       "      <td>NaN</td>\n",
       "      <td>NaN</td>\n",
       "      <td>NaN</td>\n",
       "      <td>NaN</td>\n",
       "      <td>NaN</td>\n",
       "      <td>NaN</td>\n",
       "      <td>NaN</td>\n",
       "      <td>NaN</td>\n",
       "      <td>NaN</td>\n",
       "      <td>...</td>\n",
       "      <td>0.0847</td>\n",
       "      <td>0.0811</td>\n",
       "      <td>0.0877</td>\n",
       "      <td>0.0985</td>\n",
       "      <td>0.103</td>\n",
       "      <td>0.116</td>\n",
       "      <td>0.122</td>\n",
       "      <td>0.119</td>\n",
       "      <td>0.120</td>\n",
       "      <td>0.120</td>\n",
       "    </tr>\n",
       "  </tbody>\n",
       "</table>\n",
       "<p>3 rows × 60 columns</p>\n",
       "</div>"
      ],
      "text/plain": [
       "             1960  1961  1962  1963  1964  1965  1966  1967  1968  1969  ...  \\\n",
       "country                                                                  ...   \n",
       "Afghanistan   NaN   NaN   NaN   NaN   NaN   NaN   NaN   NaN   NaN   NaN  ...   \n",
       "Albania       NaN   NaN   NaN   NaN   NaN   NaN   NaN   NaN   NaN   NaN  ...   \n",
       "Algeria       NaN   NaN   NaN   NaN   NaN   NaN   NaN   NaN   NaN   NaN  ...   \n",
       "\n",
       "               2010    2011    2012    2013   2014   2015   2016   2017  \\\n",
       "country                                                                   \n",
       "Afghanistan  0.2620  0.2370  0.2440  0.2280  0.221  0.206  0.211  0.205   \n",
       "Albania      0.1800  0.1820  0.1880  0.1960  0.200  0.198  0.198  0.190   \n",
       "Algeria      0.0847  0.0811  0.0877  0.0985  0.103  0.116  0.122  0.119   \n",
       "\n",
       "              2018   2019  \n",
       "country                    \n",
       "Afghanistan  0.203  0.211  \n",
       "Albania      0.184  0.186  \n",
       "Algeria      0.120  0.120  \n",
       "\n",
       "[3 rows x 60 columns]"
      ]
     },
     "execution_count": 2,
     "metadata": {},
     "output_type": "execute_result"
    }
   ],
   "source": [
    "df_agriculture = pd.read_csv('./data/agriculture_percent_of_gdp.csv', index_col=['country'])\n",
    "df_agriculture.head(3)"
   ]
  },
  {
   "cell_type": "markdown",
   "metadata": {},
   "source": [
    "##### Industry (% of GDP)\n",
    "*description*: Industry corresponds to ISIC division 10-45 and includes manufacturing (ISIC divisions 15-37). It comprises value added in mining, manufacturing (also reported as separated subgroup), construction, electricity, water, and gas. \n",
    "\n",
    "*source link*: https://data.worldbank.org/indicator/NV.IND.TOTL.ZS"
   ]
  },
  {
   "cell_type": "code",
   "execution_count": 3,
   "metadata": {
    "scrolled": true
   },
   "outputs": [
    {
     "data": {
      "text/html": [
       "<div>\n",
       "<style scoped>\n",
       "    .dataframe tbody tr th:only-of-type {\n",
       "        vertical-align: middle;\n",
       "    }\n",
       "\n",
       "    .dataframe tbody tr th {\n",
       "        vertical-align: top;\n",
       "    }\n",
       "\n",
       "    .dataframe thead th {\n",
       "        text-align: right;\n",
       "    }\n",
       "</style>\n",
       "<table border=\"1\" class=\"dataframe\">\n",
       "  <thead>\n",
       "    <tr style=\"text-align: right;\">\n",
       "      <th></th>\n",
       "      <th>1960</th>\n",
       "      <th>1961</th>\n",
       "      <th>1962</th>\n",
       "      <th>1963</th>\n",
       "      <th>1964</th>\n",
       "      <th>1965</th>\n",
       "      <th>1966</th>\n",
       "      <th>1967</th>\n",
       "      <th>1968</th>\n",
       "      <th>1969</th>\n",
       "      <th>...</th>\n",
       "      <th>2010</th>\n",
       "      <th>2011</th>\n",
       "      <th>2012</th>\n",
       "      <th>2013</th>\n",
       "      <th>2014</th>\n",
       "      <th>2015</th>\n",
       "      <th>2016</th>\n",
       "      <th>2017</th>\n",
       "      <th>2018</th>\n",
       "      <th>2019</th>\n",
       "    </tr>\n",
       "    <tr>\n",
       "      <th>country</th>\n",
       "      <th></th>\n",
       "      <th></th>\n",
       "      <th></th>\n",
       "      <th></th>\n",
       "      <th></th>\n",
       "      <th></th>\n",
       "      <th></th>\n",
       "      <th></th>\n",
       "      <th></th>\n",
       "      <th></th>\n",
       "      <th></th>\n",
       "      <th></th>\n",
       "      <th></th>\n",
       "      <th></th>\n",
       "      <th></th>\n",
       "      <th></th>\n",
       "      <th></th>\n",
       "      <th></th>\n",
       "      <th></th>\n",
       "      <th></th>\n",
       "      <th></th>\n",
       "    </tr>\n",
       "  </thead>\n",
       "  <tbody>\n",
       "    <tr>\n",
       "      <th>Afghanistan</th>\n",
       "      <td>NaN</td>\n",
       "      <td>NaN</td>\n",
       "      <td>NaN</td>\n",
       "      <td>NaN</td>\n",
       "      <td>NaN</td>\n",
       "      <td>NaN</td>\n",
       "      <td>NaN</td>\n",
       "      <td>NaN</td>\n",
       "      <td>NaN</td>\n",
       "      <td>NaN</td>\n",
       "      <td>...</td>\n",
       "      <td>0.212</td>\n",
       "      <td>0.227</td>\n",
       "      <td>0.212</td>\n",
       "      <td>0.204</td>\n",
       "      <td>0.212</td>\n",
       "      <td>0.221</td>\n",
       "      <td>0.218</td>\n",
       "      <td>0.221</td>\n",
       "      <td>0.223</td>\n",
       "      <td>0.221</td>\n",
       "    </tr>\n",
       "    <tr>\n",
       "      <th>Albania</th>\n",
       "      <td>NaN</td>\n",
       "      <td>NaN</td>\n",
       "      <td>NaN</td>\n",
       "      <td>NaN</td>\n",
       "      <td>NaN</td>\n",
       "      <td>NaN</td>\n",
       "      <td>NaN</td>\n",
       "      <td>NaN</td>\n",
       "      <td>NaN</td>\n",
       "      <td>NaN</td>\n",
       "      <td>...</td>\n",
       "      <td>0.249</td>\n",
       "      <td>0.245</td>\n",
       "      <td>0.229</td>\n",
       "      <td>0.231</td>\n",
       "      <td>0.215</td>\n",
       "      <td>0.218</td>\n",
       "      <td>0.211</td>\n",
       "      <td>0.204</td>\n",
       "      <td>0.213</td>\n",
       "      <td>0.201</td>\n",
       "    </tr>\n",
       "    <tr>\n",
       "      <th>Algeria</th>\n",
       "      <td>NaN</td>\n",
       "      <td>NaN</td>\n",
       "      <td>NaN</td>\n",
       "      <td>NaN</td>\n",
       "      <td>NaN</td>\n",
       "      <td>NaN</td>\n",
       "      <td>NaN</td>\n",
       "      <td>NaN</td>\n",
       "      <td>NaN</td>\n",
       "      <td>NaN</td>\n",
       "      <td>...</td>\n",
       "      <td>0.505</td>\n",
       "      <td>0.496</td>\n",
       "      <td>0.479</td>\n",
       "      <td>0.443</td>\n",
       "      <td>0.423</td>\n",
       "      <td>0.357</td>\n",
       "      <td>0.347</td>\n",
       "      <td>0.374</td>\n",
       "      <td>0.396</td>\n",
       "      <td>0.374</td>\n",
       "    </tr>\n",
       "  </tbody>\n",
       "</table>\n",
       "<p>3 rows × 60 columns</p>\n",
       "</div>"
      ],
      "text/plain": [
       "             1960  1961  1962  1963  1964  1965  1966  1967  1968  1969  ...  \\\n",
       "country                                                                  ...   \n",
       "Afghanistan   NaN   NaN   NaN   NaN   NaN   NaN   NaN   NaN   NaN   NaN  ...   \n",
       "Albania       NaN   NaN   NaN   NaN   NaN   NaN   NaN   NaN   NaN   NaN  ...   \n",
       "Algeria       NaN   NaN   NaN   NaN   NaN   NaN   NaN   NaN   NaN   NaN  ...   \n",
       "\n",
       "              2010   2011   2012   2013   2014   2015   2016   2017   2018  \\\n",
       "country                                                                      \n",
       "Afghanistan  0.212  0.227  0.212  0.204  0.212  0.221  0.218  0.221  0.223   \n",
       "Albania      0.249  0.245  0.229  0.231  0.215  0.218  0.211  0.204  0.213   \n",
       "Algeria      0.505  0.496  0.479  0.443  0.423  0.357  0.347  0.374  0.396   \n",
       "\n",
       "              2019  \n",
       "country             \n",
       "Afghanistan  0.221  \n",
       "Albania      0.201  \n",
       "Algeria      0.374  \n",
       "\n",
       "[3 rows x 60 columns]"
      ]
     },
     "execution_count": 3,
     "metadata": {},
     "output_type": "execute_result"
    }
   ],
   "source": [
    "df_industry = pd.read_csv('./data/industry_percent_of_gdp.csv', index_col=['country'])\n",
    "df_industry.head(3)"
   ]
  },
  {
   "cell_type": "markdown",
   "metadata": {},
   "source": [
    "##### Services (% of GDP)\n",
    "*description*: Services correspond to ISIC division 50-99 and they include value added in wholesale and retail trade (including hotels and restaurants), transport, and government, financial, professional, and personal services such as education, health care, and real state services. Also included are imputed bank service charges, import duties, and any statistical discrepancies noted by national compilers as well as discrepancies arising from rescaling.\n",
    "*source link*: https://data.worldbank.org/indicator/NV.SRV.TETC.ZS"
   ]
  },
  {
   "cell_type": "code",
   "execution_count": 4,
   "metadata": {},
   "outputs": [
    {
     "data": {
      "text/html": [
       "<div>\n",
       "<style scoped>\n",
       "    .dataframe tbody tr th:only-of-type {\n",
       "        vertical-align: middle;\n",
       "    }\n",
       "\n",
       "    .dataframe tbody tr th {\n",
       "        vertical-align: top;\n",
       "    }\n",
       "\n",
       "    .dataframe thead th {\n",
       "        text-align: right;\n",
       "    }\n",
       "</style>\n",
       "<table border=\"1\" class=\"dataframe\">\n",
       "  <thead>\n",
       "    <tr style=\"text-align: right;\">\n",
       "      <th></th>\n",
       "      <th>1960</th>\n",
       "      <th>1961</th>\n",
       "      <th>1962</th>\n",
       "      <th>1963</th>\n",
       "      <th>1964</th>\n",
       "      <th>1965</th>\n",
       "      <th>1966</th>\n",
       "      <th>1967</th>\n",
       "      <th>1968</th>\n",
       "      <th>1969</th>\n",
       "      <th>...</th>\n",
       "      <th>2010</th>\n",
       "      <th>2011</th>\n",
       "      <th>2012</th>\n",
       "      <th>2013</th>\n",
       "      <th>2014</th>\n",
       "      <th>2015</th>\n",
       "      <th>2016</th>\n",
       "      <th>2017</th>\n",
       "      <th>2018</th>\n",
       "      <th>2019</th>\n",
       "    </tr>\n",
       "    <tr>\n",
       "      <th>country</th>\n",
       "      <th></th>\n",
       "      <th></th>\n",
       "      <th></th>\n",
       "      <th></th>\n",
       "      <th></th>\n",
       "      <th></th>\n",
       "      <th></th>\n",
       "      <th></th>\n",
       "      <th></th>\n",
       "      <th></th>\n",
       "      <th></th>\n",
       "      <th></th>\n",
       "      <th></th>\n",
       "      <th></th>\n",
       "      <th></th>\n",
       "      <th></th>\n",
       "      <th></th>\n",
       "      <th></th>\n",
       "      <th></th>\n",
       "      <th></th>\n",
       "      <th></th>\n",
       "    </tr>\n",
       "  </thead>\n",
       "  <tbody>\n",
       "    <tr>\n",
       "      <th>Afghanistan</th>\n",
       "      <td>NaN</td>\n",
       "      <td>NaN</td>\n",
       "      <td>NaN</td>\n",
       "      <td>NaN</td>\n",
       "      <td>NaN</td>\n",
       "      <td>NaN</td>\n",
       "      <td>NaN</td>\n",
       "      <td>NaN</td>\n",
       "      <td>NaN</td>\n",
       "      <td>NaN</td>\n",
       "      <td>...</td>\n",
       "      <td>0.489</td>\n",
       "      <td>0.497</td>\n",
       "      <td>0.506</td>\n",
       "      <td>0.527</td>\n",
       "      <td>0.530</td>\n",
       "      <td>0.532</td>\n",
       "      <td>0.528</td>\n",
       "      <td>0.527</td>\n",
       "      <td>0.526</td>\n",
       "      <td>0.521</td>\n",
       "    </tr>\n",
       "    <tr>\n",
       "      <th>Albania</th>\n",
       "      <td>NaN</td>\n",
       "      <td>NaN</td>\n",
       "      <td>NaN</td>\n",
       "      <td>NaN</td>\n",
       "      <td>NaN</td>\n",
       "      <td>NaN</td>\n",
       "      <td>NaN</td>\n",
       "      <td>NaN</td>\n",
       "      <td>NaN</td>\n",
       "      <td>NaN</td>\n",
       "      <td>...</td>\n",
       "      <td>0.440</td>\n",
       "      <td>0.443</td>\n",
       "      <td>0.450</td>\n",
       "      <td>0.446</td>\n",
       "      <td>0.458</td>\n",
       "      <td>0.463</td>\n",
       "      <td>0.467</td>\n",
       "      <td>0.480</td>\n",
       "      <td>0.477</td>\n",
       "      <td>0.486</td>\n",
       "    </tr>\n",
       "    <tr>\n",
       "      <th>Algeria</th>\n",
       "      <td>NaN</td>\n",
       "      <td>NaN</td>\n",
       "      <td>NaN</td>\n",
       "      <td>NaN</td>\n",
       "      <td>NaN</td>\n",
       "      <td>NaN</td>\n",
       "      <td>NaN</td>\n",
       "      <td>NaN</td>\n",
       "      <td>NaN</td>\n",
       "      <td>NaN</td>\n",
       "      <td>...</td>\n",
       "      <td>0.382</td>\n",
       "      <td>0.394</td>\n",
       "      <td>0.395</td>\n",
       "      <td>0.412</td>\n",
       "      <td>0.429</td>\n",
       "      <td>0.474</td>\n",
       "      <td>0.481</td>\n",
       "      <td>0.457</td>\n",
       "      <td>0.440</td>\n",
       "      <td>0.459</td>\n",
       "    </tr>\n",
       "  </tbody>\n",
       "</table>\n",
       "<p>3 rows × 60 columns</p>\n",
       "</div>"
      ],
      "text/plain": [
       "             1960  1961  1962  1963  1964  1965  1966  1967  1968  1969  ...  \\\n",
       "country                                                                  ...   \n",
       "Afghanistan   NaN   NaN   NaN   NaN   NaN   NaN   NaN   NaN   NaN   NaN  ...   \n",
       "Albania       NaN   NaN   NaN   NaN   NaN   NaN   NaN   NaN   NaN   NaN  ...   \n",
       "Algeria       NaN   NaN   NaN   NaN   NaN   NaN   NaN   NaN   NaN   NaN  ...   \n",
       "\n",
       "              2010   2011   2012   2013   2014   2015   2016   2017   2018  \\\n",
       "country                                                                      \n",
       "Afghanistan  0.489  0.497  0.506  0.527  0.530  0.532  0.528  0.527  0.526   \n",
       "Albania      0.440  0.443  0.450  0.446  0.458  0.463  0.467  0.480  0.477   \n",
       "Algeria      0.382  0.394  0.395  0.412  0.429  0.474  0.481  0.457  0.440   \n",
       "\n",
       "              2019  \n",
       "country             \n",
       "Afghanistan  0.521  \n",
       "Albania      0.486  \n",
       "Algeria      0.459  \n",
       "\n",
       "[3 rows x 60 columns]"
      ]
     },
     "execution_count": 4,
     "metadata": {},
     "output_type": "execute_result"
    }
   ],
   "source": [
    "df_services = pd.read_csv('./data/services_percent_of_gdp.csv', index_col=['country'])\n",
    "df_services.head(3)"
   ]
  },
  {
   "cell_type": "markdown",
   "metadata": {},
   "source": [
    "#### GDP/capita(US$, inflation-adjusted)\n",
    "*description*: GDP per capita is gross domestic product divided by midyear population. GDP is the sum of gross value added by all resident producers in the economy plus any product taxes and minus any subsidies not included in the value of the products. It is calculated without making deductions for depreciation of fabricated assets or for depletion and degradation fo natural resources. Data are in constant 2010 US dollars.\n",
    "\n",
    "*source link*: https://data.worldbank.org/indicator/NY.GDP.PCAP.KD"
   ]
  },
  {
   "cell_type": "code",
   "execution_count": 5,
   "metadata": {
    "scrolled": true
   },
   "outputs": [
    {
     "data": {
      "text/html": [
       "<div>\n",
       "<style scoped>\n",
       "    .dataframe tbody tr th:only-of-type {\n",
       "        vertical-align: middle;\n",
       "    }\n",
       "\n",
       "    .dataframe tbody tr th {\n",
       "        vertical-align: top;\n",
       "    }\n",
       "\n",
       "    .dataframe thead th {\n",
       "        text-align: right;\n",
       "    }\n",
       "</style>\n",
       "<table border=\"1\" class=\"dataframe\">\n",
       "  <thead>\n",
       "    <tr style=\"text-align: right;\">\n",
       "      <th></th>\n",
       "      <th>1960</th>\n",
       "      <th>1961</th>\n",
       "      <th>1962</th>\n",
       "      <th>1963</th>\n",
       "      <th>1964</th>\n",
       "      <th>1965</th>\n",
       "      <th>1966</th>\n",
       "      <th>1967</th>\n",
       "      <th>1968</th>\n",
       "      <th>1969</th>\n",
       "      <th>...</th>\n",
       "      <th>2010</th>\n",
       "      <th>2011</th>\n",
       "      <th>2012</th>\n",
       "      <th>2013</th>\n",
       "      <th>2014</th>\n",
       "      <th>2015</th>\n",
       "      <th>2016</th>\n",
       "      <th>2017</th>\n",
       "      <th>2018</th>\n",
       "      <th>2019</th>\n",
       "    </tr>\n",
       "    <tr>\n",
       "      <th>country</th>\n",
       "      <th></th>\n",
       "      <th></th>\n",
       "      <th></th>\n",
       "      <th></th>\n",
       "      <th></th>\n",
       "      <th></th>\n",
       "      <th></th>\n",
       "      <th></th>\n",
       "      <th></th>\n",
       "      <th></th>\n",
       "      <th></th>\n",
       "      <th></th>\n",
       "      <th></th>\n",
       "      <th></th>\n",
       "      <th></th>\n",
       "      <th></th>\n",
       "      <th></th>\n",
       "      <th></th>\n",
       "      <th></th>\n",
       "      <th></th>\n",
       "      <th></th>\n",
       "    </tr>\n",
       "  </thead>\n",
       "  <tbody>\n",
       "    <tr>\n",
       "      <th>Afghanistan</th>\n",
       "      <td>NaN</td>\n",
       "      <td>NaN</td>\n",
       "      <td>NaN</td>\n",
       "      <td>NaN</td>\n",
       "      <td>NaN</td>\n",
       "      <td>NaN</td>\n",
       "      <td>NaN</td>\n",
       "      <td>NaN</td>\n",
       "      <td>NaN</td>\n",
       "      <td>NaN</td>\n",
       "      <td>...</td>\n",
       "      <td>543</td>\n",
       "      <td>529.0</td>\n",
       "      <td>576.0</td>\n",
       "      <td>588.0</td>\n",
       "      <td>584.0</td>\n",
       "      <td>574.0</td>\n",
       "      <td>571.0</td>\n",
       "      <td>572.0</td>\n",
       "      <td>568.0</td>\n",
       "      <td>571.0</td>\n",
       "    </tr>\n",
       "    <tr>\n",
       "      <th>Albania</th>\n",
       "      <td>NaN</td>\n",
       "      <td>NaN</td>\n",
       "      <td>NaN</td>\n",
       "      <td>NaN</td>\n",
       "      <td>NaN</td>\n",
       "      <td>NaN</td>\n",
       "      <td>NaN</td>\n",
       "      <td>NaN</td>\n",
       "      <td>NaN</td>\n",
       "      <td>NaN</td>\n",
       "      <td>...</td>\n",
       "      <td>4090</td>\n",
       "      <td>4210.0</td>\n",
       "      <td>4280.0</td>\n",
       "      <td>4330.0</td>\n",
       "      <td>4410.0</td>\n",
       "      <td>4520.0</td>\n",
       "      <td>4680.0</td>\n",
       "      <td>4860.0</td>\n",
       "      <td>5070.0</td>\n",
       "      <td>5210.0</td>\n",
       "    </tr>\n",
       "    <tr>\n",
       "      <th>Algeria</th>\n",
       "      <td>2480.0</td>\n",
       "      <td>2090.0</td>\n",
       "      <td>1640.0</td>\n",
       "      <td>2150.0</td>\n",
       "      <td>2210.0</td>\n",
       "      <td>2290.0</td>\n",
       "      <td>2120.0</td>\n",
       "      <td>2260.0</td>\n",
       "      <td>2430.0</td>\n",
       "      <td>2560.0</td>\n",
       "      <td>...</td>\n",
       "      <td>4480</td>\n",
       "      <td>4520.0</td>\n",
       "      <td>4590.0</td>\n",
       "      <td>4620.0</td>\n",
       "      <td>4700.0</td>\n",
       "      <td>4780.0</td>\n",
       "      <td>4830.0</td>\n",
       "      <td>4790.0</td>\n",
       "      <td>4760.0</td>\n",
       "      <td>4710.0</td>\n",
       "    </tr>\n",
       "  </tbody>\n",
       "</table>\n",
       "<p>3 rows × 60 columns</p>\n",
       "</div>"
      ],
      "text/plain": [
       "               1960    1961    1962    1963    1964    1965    1966    1967  \\\n",
       "country                                                                       \n",
       "Afghanistan     NaN     NaN     NaN     NaN     NaN     NaN     NaN     NaN   \n",
       "Albania         NaN     NaN     NaN     NaN     NaN     NaN     NaN     NaN   \n",
       "Algeria      2480.0  2090.0  1640.0  2150.0  2210.0  2290.0  2120.0  2260.0   \n",
       "\n",
       "               1968    1969  ...  2010    2011    2012    2013    2014  \\\n",
       "country                      ...                                         \n",
       "Afghanistan     NaN     NaN  ...   543   529.0   576.0   588.0   584.0   \n",
       "Albania         NaN     NaN  ...  4090  4210.0  4280.0  4330.0  4410.0   \n",
       "Algeria      2430.0  2560.0  ...  4480  4520.0  4590.0  4620.0  4700.0   \n",
       "\n",
       "               2015    2016    2017    2018    2019  \n",
       "country                                              \n",
       "Afghanistan   574.0   571.0   572.0   568.0   571.0  \n",
       "Albania      4520.0  4680.0  4860.0  5070.0  5210.0  \n",
       "Algeria      4780.0  4830.0  4790.0  4760.0  4710.0  \n",
       "\n",
       "[3 rows x 60 columns]"
      ]
     },
     "execution_count": 5,
     "metadata": {},
     "output_type": "execute_result"
    }
   ],
   "source": [
    "df_gdppc = pd.read_csv('./data/gdppercapita_us_inflation_adjusted.csv', index_col=['country'])\n",
    "df_gdppc.head(3)"
   ]
  },
  {
   "cell_type": "markdown",
   "metadata": {},
   "source": [
    "### Data Cleaning"
   ]
  },
  {
   "cell_type": "markdown",
   "metadata": {},
   "source": [
    "Checking how many non-null values are in the database for recent years to choose the completest year."
   ]
  },
  {
   "cell_type": "code",
   "execution_count": 6,
   "metadata": {
    "scrolled": false
   },
   "outputs": [
    {
     "name": "stdout",
     "output_type": "stream",
     "text": [
      "Agriculture\n",
      "<class 'pandas.core.frame.DataFrame'>\n",
      "Index: 190 entries, Afghanistan to Zimbabwe\n",
      "Data columns (total 10 columns):\n",
      " #   Column  Non-Null Count  Dtype  \n",
      "---  ------  --------------  -----  \n",
      " 0   2010    180 non-null    float64\n",
      " 1   2011    180 non-null    float64\n",
      " 2   2012    181 non-null    float64\n",
      " 3   2013    183 non-null    float64\n",
      " 4   2014    183 non-null    float64\n",
      " 5   2015    182 non-null    float64\n",
      " 6   2016    178 non-null    float64\n",
      " 7   2017    175 non-null    float64\n",
      " 8   2018    169 non-null    float64\n",
      " 9   2019    145 non-null    float64\n",
      "dtypes: float64(10)\n",
      "memory usage: 16.3+ KB\n",
      "None\n"
     ]
    }
   ],
   "source": [
    "print('Agriculture')\n",
    "print(df_agriculture.loc[:,'2010':'2019'].info())"
   ]
  },
  {
   "cell_type": "code",
   "execution_count": 7,
   "metadata": {
    "scrolled": true
   },
   "outputs": [
    {
     "name": "stdout",
     "output_type": "stream",
     "text": [
      "Industry\n",
      "<class 'pandas.core.frame.DataFrame'>\n",
      "Index: 190 entries, Afghanistan to Zimbabwe\n",
      "Data columns (total 10 columns):\n",
      " #   Column  Non-Null Count  Dtype  \n",
      "---  ------  --------------  -----  \n",
      " 0   2010    180 non-null    float64\n",
      " 1   2011    181 non-null    float64\n",
      " 2   2012    182 non-null    float64\n",
      " 3   2013    185 non-null    float64\n",
      " 4   2014    185 non-null    float64\n",
      " 5   2015    184 non-null    float64\n",
      " 6   2016    179 non-null    float64\n",
      " 7   2017    176 non-null    float64\n",
      " 8   2018    170 non-null    float64\n",
      " 9   2019    144 non-null    float64\n",
      "dtypes: float64(10)\n",
      "memory usage: 16.3+ KB\n",
      "None\n"
     ]
    }
   ],
   "source": [
    "print('Industry')\n",
    "print(df_industry.loc[:,'2010':'2019'].info())"
   ]
  },
  {
   "cell_type": "code",
   "execution_count": 8,
   "metadata": {
    "scrolled": true
   },
   "outputs": [
    {
     "name": "stdout",
     "output_type": "stream",
     "text": [
      "Services\n",
      "<class 'pandas.core.frame.DataFrame'>\n",
      "Index: 183 entries, Afghanistan to Zimbabwe\n",
      "Data columns (total 10 columns):\n",
      " #   Column  Non-Null Count  Dtype  \n",
      "---  ------  --------------  -----  \n",
      " 0   2010    177 non-null    float64\n",
      " 1   2011    177 non-null    float64\n",
      " 2   2012    178 non-null    float64\n",
      " 3   2013    180 non-null    float64\n",
      " 4   2014    180 non-null    float64\n",
      " 5   2015    179 non-null    float64\n",
      " 6   2016    178 non-null    float64\n",
      " 7   2017    176 non-null    float64\n",
      " 8   2018    170 non-null    float64\n",
      " 9   2019    145 non-null    float64\n",
      "dtypes: float64(10)\n",
      "memory usage: 15.7+ KB\n",
      "None\n"
     ]
    }
   ],
   "source": [
    "print('Services')\n",
    "print(df_services.loc[:,'2010':'2019'].info())"
   ]
  },
  {
   "cell_type": "code",
   "execution_count": 9,
   "metadata": {
    "scrolled": true
   },
   "outputs": [
    {
     "name": "stdout",
     "output_type": "stream",
     "text": [
      "GDP per capita\n",
      "<class 'pandas.core.frame.DataFrame'>\n",
      "Index: 191 entries, Afghanistan to Zimbabwe\n",
      "Data columns (total 10 columns):\n",
      " #   Column  Non-Null Count  Dtype  \n",
      "---  ------  --------------  -----  \n",
      " 0   2010    191 non-null    int64  \n",
      " 1   2011    189 non-null    float64\n",
      " 2   2012    188 non-null    float64\n",
      " 3   2013    188 non-null    float64\n",
      " 4   2014    188 non-null    float64\n",
      " 5   2015    187 non-null    float64\n",
      " 6   2016    186 non-null    float64\n",
      " 7   2017    186 non-null    float64\n",
      " 8   2018    185 non-null    float64\n",
      " 9   2019    174 non-null    float64\n",
      "dtypes: float64(9), int64(1)\n",
      "memory usage: 16.4+ KB\n",
      "None\n"
     ]
    }
   ],
   "source": [
    "print('GDP per capita')\n",
    "print(df_gdppc.loc[:,'2010':'2019'].info())"
   ]
  },
  {
   "cell_type": "markdown",
   "metadata": {},
   "source": [
    "The recent year with the most data is 2014. Therefore, this year will be used to create a new DataFrame."
   ]
  },
  {
   "cell_type": "code",
   "execution_count": 10,
   "metadata": {},
   "outputs": [
    {
     "data": {
      "text/html": [
       "<div>\n",
       "<style scoped>\n",
       "    .dataframe tbody tr th:only-of-type {\n",
       "        vertical-align: middle;\n",
       "    }\n",
       "\n",
       "    .dataframe tbody tr th {\n",
       "        vertical-align: top;\n",
       "    }\n",
       "\n",
       "    .dataframe thead th {\n",
       "        text-align: right;\n",
       "    }\n",
       "</style>\n",
       "<table border=\"1\" class=\"dataframe\">\n",
       "  <thead>\n",
       "    <tr style=\"text-align: right;\">\n",
       "      <th></th>\n",
       "      <th>agriculture</th>\n",
       "      <th>industry</th>\n",
       "      <th>services</th>\n",
       "      <th>GDP_per_capita</th>\n",
       "    </tr>\n",
       "  </thead>\n",
       "  <tbody>\n",
       "    <tr>\n",
       "      <th>Afghanistan</th>\n",
       "      <td>0.2210</td>\n",
       "      <td>0.212</td>\n",
       "      <td>0.530</td>\n",
       "      <td>584.0</td>\n",
       "    </tr>\n",
       "    <tr>\n",
       "      <th>Albania</th>\n",
       "      <td>0.2000</td>\n",
       "      <td>0.215</td>\n",
       "      <td>0.458</td>\n",
       "      <td>4410.0</td>\n",
       "    </tr>\n",
       "    <tr>\n",
       "      <th>Algeria</th>\n",
       "      <td>0.1030</td>\n",
       "      <td>0.423</td>\n",
       "      <td>0.429</td>\n",
       "      <td>4700.0</td>\n",
       "    </tr>\n",
       "    <tr>\n",
       "      <th>Andorra</th>\n",
       "      <td>NaN</td>\n",
       "      <td>NaN</td>\n",
       "      <td>NaN</td>\n",
       "      <td>40900.0</td>\n",
       "    </tr>\n",
       "    <tr>\n",
       "      <th>Angola</th>\n",
       "      <td>0.0755</td>\n",
       "      <td>0.462</td>\n",
       "      <td>0.468</td>\n",
       "      <td>3840.0</td>\n",
       "    </tr>\n",
       "  </tbody>\n",
       "</table>\n",
       "</div>"
      ],
      "text/plain": [
       "             agriculture  industry  services  GDP_per_capita\n",
       "Afghanistan       0.2210     0.212     0.530           584.0\n",
       "Albania           0.2000     0.215     0.458          4410.0\n",
       "Algeria           0.1030     0.423     0.429          4700.0\n",
       "Andorra              NaN       NaN       NaN         40900.0\n",
       "Angola            0.0755     0.462     0.468          3840.0"
      ]
     },
     "execution_count": 10,
     "metadata": {},
     "output_type": "execute_result"
    }
   ],
   "source": [
    "df = pd.DataFrame({'agriculture':df_agriculture.loc[:,'2014'],\n",
    "                   'industry':df_industry.loc[:,'2014'],\n",
    "                   'services':df_services.loc[:,'2014'],\n",
    "                   'GDP_per_capita':df_gdppc.loc[:,'2014']})\n",
    "df.head()"
   ]
  },
  {
   "cell_type": "markdown",
   "metadata": {},
   "source": [
    "Checking and dropping the countries with null values."
   ]
  },
  {
   "cell_type": "code",
   "execution_count": 11,
   "metadata": {
    "scrolled": true
   },
   "outputs": [
    {
     "data": {
      "text/plain": [
       "agriculture       10\n",
       "industry           8\n",
       "services          13\n",
       "GDP_per_capita     5\n",
       "dtype: int64"
      ]
     },
     "execution_count": 11,
     "metadata": {},
     "output_type": "execute_result"
    }
   ],
   "source": [
    "df.isna().sum()"
   ]
  },
  {
   "cell_type": "code",
   "execution_count": 12,
   "metadata": {},
   "outputs": [],
   "source": [
    "df.dropna(inplace=True)"
   ]
  },
  {
   "cell_type": "code",
   "execution_count": 13,
   "metadata": {},
   "outputs": [
    {
     "data": {
      "text/plain": [
       "agriculture       0\n",
       "industry          0\n",
       "services          0\n",
       "GDP_per_capita    0\n",
       "dtype: int64"
      ]
     },
     "execution_count": 13,
     "metadata": {},
     "output_type": "execute_result"
    }
   ],
   "source": [
    "df.isna().sum()"
   ]
  },
  {
   "cell_type": "markdown",
   "metadata": {},
   "source": [
    "Checking how many countries are left."
   ]
  },
  {
   "cell_type": "code",
   "execution_count": 14,
   "metadata": {},
   "outputs": [
    {
     "data": {
      "text/plain": [
       "(178, 4)"
      ]
     },
     "execution_count": 14,
     "metadata": {},
     "output_type": "execute_result"
    }
   ],
   "source": [
    "df.shape"
   ]
  },
  {
   "cell_type": "markdown",
   "metadata": {},
   "source": [
    "<a id='eda'></a>\n",
    "## Exploratory Data Analysis\n",
    "\n",
    "### From where the richness of the countries come from? \n",
    "How the economic sector of the countries correlates with their GDP per capita."
   ]
  },
  {
   "cell_type": "code",
   "execution_count": 15,
   "metadata": {},
   "outputs": [
    {
     "data": {
      "text/html": [
       "<div>\n",
       "<style scoped>\n",
       "    .dataframe tbody tr th:only-of-type {\n",
       "        vertical-align: middle;\n",
       "    }\n",
       "\n",
       "    .dataframe tbody tr th {\n",
       "        vertical-align: top;\n",
       "    }\n",
       "\n",
       "    .dataframe thead th {\n",
       "        text-align: right;\n",
       "    }\n",
       "</style>\n",
       "<table border=\"1\" class=\"dataframe\">\n",
       "  <thead>\n",
       "    <tr style=\"text-align: right;\">\n",
       "      <th></th>\n",
       "      <th>agriculture</th>\n",
       "      <th>industry</th>\n",
       "      <th>services</th>\n",
       "      <th>GDP_per_capita</th>\n",
       "    </tr>\n",
       "  </thead>\n",
       "  <tbody>\n",
       "    <tr>\n",
       "      <th>count</th>\n",
       "      <td>178.000000</td>\n",
       "      <td>178.000000</td>\n",
       "      <td>178.000000</td>\n",
       "      <td>178.000000</td>\n",
       "    </tr>\n",
       "    <tr>\n",
       "      <th>mean</th>\n",
       "      <td>0.109189</td>\n",
       "      <td>0.270127</td>\n",
       "      <td>0.542219</td>\n",
       "      <td>13059.629213</td>\n",
       "    </tr>\n",
       "    <tr>\n",
       "      <th>std</th>\n",
       "      <td>0.106557</td>\n",
       "      <td>0.127593</td>\n",
       "      <td>0.121455</td>\n",
       "      <td>18210.800290</td>\n",
       "    </tr>\n",
       "    <tr>\n",
       "      <th>min</th>\n",
       "      <td>0.000346</td>\n",
       "      <td>0.060300</td>\n",
       "      <td>0.157000</td>\n",
       "      <td>245.000000</td>\n",
       "    </tr>\n",
       "    <tr>\n",
       "      <th>25%</th>\n",
       "      <td>0.028850</td>\n",
       "      <td>0.185500</td>\n",
       "      <td>0.460000</td>\n",
       "      <td>1632.500000</td>\n",
       "    </tr>\n",
       "    <tr>\n",
       "      <th>50%</th>\n",
       "      <td>0.071850</td>\n",
       "      <td>0.247500</td>\n",
       "      <td>0.540500</td>\n",
       "      <td>5500.000000</td>\n",
       "    </tr>\n",
       "    <tr>\n",
       "      <th>75%</th>\n",
       "      <td>0.167750</td>\n",
       "      <td>0.314750</td>\n",
       "      <td>0.635500</td>\n",
       "      <td>14500.000000</td>\n",
       "    </tr>\n",
       "    <tr>\n",
       "      <th>max</th>\n",
       "      <td>0.518000</td>\n",
       "      <td>0.705000</td>\n",
       "      <td>0.785000</td>\n",
       "      <td>106000.000000</td>\n",
       "    </tr>\n",
       "  </tbody>\n",
       "</table>\n",
       "</div>"
      ],
      "text/plain": [
       "       agriculture    industry    services  GDP_per_capita\n",
       "count   178.000000  178.000000  178.000000      178.000000\n",
       "mean      0.109189    0.270127    0.542219    13059.629213\n",
       "std       0.106557    0.127593    0.121455    18210.800290\n",
       "min       0.000346    0.060300    0.157000      245.000000\n",
       "25%       0.028850    0.185500    0.460000     1632.500000\n",
       "50%       0.071850    0.247500    0.540500     5500.000000\n",
       "75%       0.167750    0.314750    0.635500    14500.000000\n",
       "max       0.518000    0.705000    0.785000   106000.000000"
      ]
     },
     "execution_count": 15,
     "metadata": {},
     "output_type": "execute_result"
    }
   ],
   "source": [
    "df.describe()"
   ]
  },
  {
   "cell_type": "markdown",
   "metadata": {},
   "source": [
    "#### Histograms\n",
    "First, let's see the histogram of each variable."
   ]
  },
  {
   "cell_type": "markdown",
   "metadata": {},
   "source": [
    "##### Agriculture"
   ]
  },
  {
   "cell_type": "code",
   "execution_count": 16,
   "metadata": {
    "scrolled": false
   },
   "outputs": [
    {
     "data": {
      "image/png": "[encoded data removed]",
      "text/plain": [
       "<Figure size 432x288 with 1 Axes>"
      ]
     },
     "metadata": {},
     "output_type": "display_data"
    }
   ],
   "source": [
    "bins=np.arange(0,1,.1)\n",
    "ax = df['agriculture'].plot(kind='hist', title='Agriculture sector (%GDP) distribution', bins=bins)\n",
    "ax.set_xlabel('%GDP');\n",
    "ax.set_xlim(0,.8)\n",
    "ax.set_ylim(0,)\n",
    "sns.despine(left=True, bottom=True)"
   ]
  },
  {
   "cell_type": "markdown",
   "metadata": {},
   "source": [
    "The distribution is very skewed to right, which means that most of the countries have little dependence on agriculture as a font of GDP."
   ]
  },
  {
   "cell_type": "markdown",
   "metadata": {},
   "source": [
    "##### Industry"
   ]
  },
  {
   "cell_type": "code",
   "execution_count": 17,
   "metadata": {},
   "outputs": [
    {
     "data": {
      "image/png": "[encoded data removed]",
      "text/plain": [
       "<Figure size 432x288 with 1 Axes>"
      ]
     },
     "metadata": {},
     "output_type": "display_data"
    }
   ],
   "source": [
    "ax = df['industry'].plot(kind='hist', title='Industry sector (%GDP) distribution', bins=bins)\n",
    "ax.set_xlabel('%GDP');\n",
    "ax.set_xlim(0,.8)\n",
    "ax.set_ylim(0,)\n",
    "sns.despine(left=True, bottom=True)"
   ]
  },
  {
   "cell_type": "markdown",
   "metadata": {},
   "source": [
    "Industries have a bigger contribution to the GDP than agriculture. Furthermore, some countries are highly industrialized, more than 65% of the GDP comes from the industrial sector."
   ]
  },
  {
   "cell_type": "markdown",
   "metadata": {},
   "source": [
    "##### Services"
   ]
  },
  {
   "cell_type": "code",
   "execution_count": 18,
   "metadata": {
    "scrolled": true
   },
   "outputs": [
    {
     "data": {
      "image/png": "[encoded data removed]",
      "text/plain": [
       "<Figure size 432x288 with 1 Axes>"
      ]
     },
     "metadata": {},
     "output_type": "display_data"
    }
   ],
   "source": [
    "ax = df['services'].plot(kind='hist', title='Services sector (%GDP) distribution', bins=bins)\n",
    "ax.set_xlabel('%GDP');\n",
    "ax.set_xlim(0,.8)\n",
    "ax.set_ylim(0,)\n",
    "sns.despine(left=True, bottom=True)"
   ]
  },
  {
   "cell_type": "markdown",
   "metadata": {},
   "source": [
    "Services is clearly the major source of GDP for most countries"
   ]
  },
  {
   "cell_type": "markdown",
   "metadata": {},
   "source": [
    "##### GDP per capita"
   ]
  },
  {
   "cell_type": "code",
   "execution_count": 19,
   "metadata": {},
   "outputs": [
    {
     "data": {
      "image/png": "[encoded data removed]",
      "text/plain": [
       "<Figure size 432x288 with 1 Axes>"
      ]
     },
     "metadata": {},
     "output_type": "display_data"
    }
   ],
   "source": [
    "bins=np.arange(0,100000, 10000)\n",
    "ax = df['GDP_per_capita'].plot(kind='hist', title='GDP per capita distribution', bins=bins)\n",
    "ax.set_xlabel('GDP per capita');\n",
    "ax.set_xlim(0,)\n",
    "ax.set_ylim(0,)\n",
    "sns.despine(left=True, bottom=True)"
   ]
  },
  {
   "cell_type": "markdown",
   "metadata": {},
   "source": [
    "The distribution is very skewed to the right, as expected for this kind of plot."
   ]
  },
  {
   "cell_type": "markdown",
   "metadata": {},
   "source": [
    "#### Scatter plots\n",
    "Now that each variable was individually analysed. Let's examine how each of the economic sectors correlates with the GDP per capita of the countries."
   ]
  },
  {
   "cell_type": "markdown",
   "metadata": {},
   "source": [
    "##### Agriculture vs GDP per capita"
   ]
  },
  {
   "cell_type": "code",
   "execution_count": 20,
   "metadata": {},
   "outputs": [
    {
     "data": {
      "image/png": "[encoded data removed]",
      "text/plain": [
       "<Figure size 504x360 with 1 Axes>"
      ]
     },
     "metadata": {},
     "output_type": "display_data"
    }
   ],
   "source": [
    "ax = df.plot.scatter(x='GDP_per_capita', y='agriculture',figsize=(7,5), c='b');\n",
    "ax.set_xlabel('GDP per capita');\n",
    "ax.set_ylabel('Agriculture (%GDP)');\n",
    "ax.set_title('Agriculture (%GDP) vs GDP/capita for 178 countries - 2014');\n",
    "ax.set_xlim(0,)\n",
    "ax.set_ylim(0,)\n",
    "sns.despine()"
   ]
  },
  {
   "cell_type": "markdown",
   "metadata": {},
   "source": [
    "Dividing the countries into four categories based on GDP per capita"
   ]
  },
  {
   "cell_type": "code",
   "execution_count": 21,
   "metadata": {},
   "outputs": [
    {
     "data": {
      "text/html": [
       "<div>\n",
       "<style scoped>\n",
       "    .dataframe tbody tr th:only-of-type {\n",
       "        vertical-align: middle;\n",
       "    }\n",
       "\n",
       "    .dataframe tbody tr th {\n",
       "        vertical-align: top;\n",
       "    }\n",
       "\n",
       "    .dataframe thead th {\n",
       "        text-align: right;\n",
       "    }\n",
       "</style>\n",
       "<table border=\"1\" class=\"dataframe\">\n",
       "  <thead>\n",
       "    <tr style=\"text-align: right;\">\n",
       "      <th></th>\n",
       "      <th>agriculture</th>\n",
       "      <th>industry</th>\n",
       "      <th>services</th>\n",
       "      <th>GDP_per_capita</th>\n",
       "      <th>GDP_PP_categories</th>\n",
       "    </tr>\n",
       "  </thead>\n",
       "  <tbody>\n",
       "    <tr>\n",
       "      <th>Afghanistan</th>\n",
       "      <td>0.221</td>\n",
       "      <td>0.212</td>\n",
       "      <td>0.530</td>\n",
       "      <td>584.0</td>\n",
       "      <td>very low</td>\n",
       "    </tr>\n",
       "    <tr>\n",
       "      <th>Albania</th>\n",
       "      <td>0.200</td>\n",
       "      <td>0.215</td>\n",
       "      <td>0.458</td>\n",
       "      <td>4410.0</td>\n",
       "      <td>low</td>\n",
       "    </tr>\n",
       "    <tr>\n",
       "      <th>Algeria</th>\n",
       "      <td>0.103</td>\n",
       "      <td>0.423</td>\n",
       "      <td>0.429</td>\n",
       "      <td>4700.0</td>\n",
       "      <td>low</td>\n",
       "    </tr>\n",
       "  </tbody>\n",
       "</table>\n",
       "</div>"
      ],
      "text/plain": [
       "             agriculture  industry  services  GDP_per_capita GDP_PP_categories\n",
       "Afghanistan        0.221     0.212     0.530           584.0          very low\n",
       "Albania            0.200     0.215     0.458          4410.0               low\n",
       "Algeria            0.103     0.423     0.429          4700.0               low"
      ]
     },
     "execution_count": 21,
     "metadata": {},
     "output_type": "execute_result"
    }
   ],
   "source": [
    "bin_edges = [245,1632.5,5500,14500,106000]\n",
    "bin_names = ['very low','low','high','very high']\n",
    "df['GDP_PP_categories'] = pd.cut(df['GDP_per_capita'],bin_edges,labels=bin_names)\n",
    "df.head(3)"
   ]
  },
  {
   "cell_type": "code",
   "execution_count": 22,
   "metadata": {
    "scrolled": true
   },
   "outputs": [
    {
     "data": {
      "image/png": "[encoded data removed]",
      "text/plain": [
       "<Figure size 432x288 with 1 Axes>"
      ]
     },
     "metadata": {},
     "output_type": "display_data"
    }
   ],
   "source": [
    "means = df.groupby('GDP_PP_categories').mean()['agriculture']\n",
    "plt.bar(means.index,means);\n",
    "plt.title('Mean agriculture sector (%GDP) vs GDP/capita - 2014')\n",
    "plt.ylabel('Mean agriculture sector (%GDP)')\n",
    "plt.xlabel('GDP/capita categories')\n",
    "sns.despine(left=True, bottom=True)"
   ]
  },
  {
   "cell_type": "code",
   "execution_count": 23,
   "metadata": {},
   "outputs": [
    {
     "data": {
      "text/plain": [
       "GDP_PP_categories\n",
       "very low     0.241009\n",
       "low          0.122455\n",
       "high         0.053064\n",
       "very high    0.016855\n",
       "Name: agriculture, dtype: float64"
      ]
     },
     "execution_count": 23,
     "metadata": {},
     "output_type": "execute_result"
    }
   ],
   "source": [
    "df.groupby('GDP_PP_categories').mean()['agriculture']"
   ]
  },
  {
   "cell_type": "markdown",
   "metadata": {},
   "source": [
    "The dependency on agriculture drops exponentially as the GDP per capita grows.\n",
    "This may be because of a limit on the land available for agriculture. The GDP can not grow over this limit based only on this sector."
   ]
  },
  {
   "cell_type": "markdown",
   "metadata": {},
   "source": [
    "##### Industry vs GDP per capita"
   ]
  },
  {
   "cell_type": "code",
   "execution_count": 24,
   "metadata": {},
   "outputs": [
    {
     "data": {
      "image/png": "[encoded data removed]",
      "text/plain": [
       "<Figure size 504x360 with 1 Axes>"
      ]
     },
     "metadata": {},
     "output_type": "display_data"
    }
   ],
   "source": [
    "ax = df.plot.scatter(x='GDP_per_capita', y='industry',figsize=(7,5), c='b');\n",
    "ax.set_xlabel('GDP per capita');\n",
    "ax.set_ylabel('Industry (%GDP)');\n",
    "ax.set_title('Industry (%GDP) vs GDP/capita for 178 countries - 2014');\n",
    "ax.set_xlim(0,)\n",
    "ax.set_ylim(0,)\n",
    "sns.despine()"
   ]
  },
  {
   "cell_type": "code",
   "execution_count": 25,
   "metadata": {},
   "outputs": [
    {
     "data": {
      "image/png": "[encoded data removed]",
      "text/plain": [
       "<Figure size 432x288 with 1 Axes>"
      ]
     },
     "metadata": {},
     "output_type": "display_data"
    }
   ],
   "source": [
    "means = df.groupby('GDP_PP_categories').mean()['industry']\n",
    "plt.bar(means.index,means);\n",
    "plt.title('Mean industry sector (%GDP) vs GDP/capita - 2014')\n",
    "plt.ylabel('Mean industry sector (%GDP)')\n",
    "plt.xlabel('GDP/capita categories')\n",
    "sns.despine(left=True, bottom=True)"
   ]
  },
  {
   "cell_type": "code",
   "execution_count": 26,
   "metadata": {},
   "outputs": [
    {
     "data": {
      "text/plain": [
       "GDP_PP_categories\n",
       "very low     0.235545\n",
       "low          0.282234\n",
       "high         0.261918\n",
       "very high    0.302687\n",
       "Name: industry, dtype: float64"
      ]
     },
     "execution_count": 26,
     "metadata": {},
     "output_type": "execute_result"
    }
   ],
   "source": [
    "df.groupby('GDP_PP_categories').mean()['industry']"
   ]
  },
  {
   "cell_type": "markdown",
   "metadata": {},
   "source": [
    "Despite the fact countries with high GDP per capita presented on average a low industry ratio compared with countries with low GDP per capita, there is a slight correlation between industrialization and higher GDP per capita. The countries with very high GDP per capita presented a mean industry ratio value 28.54% higher than the countries with very low GDP per capita."
   ]
  },
  {
   "cell_type": "markdown",
   "metadata": {},
   "source": [
    "##### Services vs GDP per capita"
   ]
  },
  {
   "cell_type": "code",
   "execution_count": 27,
   "metadata": {
    "scrolled": false
   },
   "outputs": [
    {
     "data": {
      "image/png": "[encoded data removed]",
      "text/plain": [
       "<Figure size 504x360 with 1 Axes>"
      ]
     },
     "metadata": {},
     "output_type": "display_data"
    }
   ],
   "source": [
    "ax = df.plot.scatter(x='GDP_per_capita', y='services',figsize=(7,5), c='b');\n",
    "ax.set_xlabel('GDP per capita');\n",
    "ax.set_ylabel('Services (%GDP)');\n",
    "ax.set_title('Services (%GDP) vs GDP/capita for 178 countries - 2014');\n",
    "ax.set_xlim(0,)\n",
    "ax.set_ylim(0,)\n",
    "sns.despine()"
   ]
  },
  {
   "cell_type": "code",
   "execution_count": 28,
   "metadata": {},
   "outputs": [
    {
     "data": {
      "image/png": "[encoded data removed]",
      "text/plain": [
       "<Figure size 432x288 with 1 Axes>"
      ]
     },
     "metadata": {},
     "output_type": "display_data"
    }
   ],
   "source": [
    "means = df.groupby('GDP_PP_categories').mean()['services']\n",
    "plt.bar(means.index, means);\n",
    "plt.title('Mean services sector (%GDP) vs GDP/capita - 2014')\n",
    "plt.ylabel('Mean services sector (%GDP)')\n",
    "plt.xlabel('GDP/capita categories')\n",
    "sns.despine(left=True, bottom=True)"
   ]
  },
  {
   "cell_type": "code",
   "execution_count": 29,
   "metadata": {},
   "outputs": [
    {
     "data": {
      "text/plain": [
       "GDP_PP_categories\n",
       "very low     0.453182\n",
       "low          0.519750\n",
       "high         0.589045\n",
       "very high    0.608822\n",
       "Name: services, dtype: float64"
      ]
     },
     "execution_count": 29,
     "metadata": {},
     "output_type": "execute_result"
    }
   ],
   "source": [
    "df.groupby('GDP_PP_categories').mean()['services']"
   ]
  },
  {
   "cell_type": "markdown",
   "metadata": {},
   "source": [
    "There appears to be a correlation between countries with high GDP per capita and the ratio of the services sector. This correlation is stronger than the one found in the industry sector. The countries with very high GDP per capita presented a mean services ratio value 34.36% higher than the countries with very low GDP per capita. Since services are less depending on infrastructure than industry, it allows the services sector to grow more. Furthermore, when people overcome the need for food (agriculture) and stuff (industry), services become the growing expenditure."
   ]
  },
  {
   "cell_type": "markdown",
   "metadata": {},
   "source": [
    "### Which countries had the most increase in the GDP/per capita over the past 5 decades?"
   ]
  },
  {
   "cell_type": "markdown",
   "metadata": {},
   "source": [
    "First, let's copy the 'GDP per capita' data frame, limited to 5 decades up to 2014 (from 1965 to 2014)"
   ]
  },
  {
   "cell_type": "code",
   "execution_count": 30,
   "metadata": {},
   "outputs": [
    {
     "data": {
      "text/plain": [
       "(191, 50)"
      ]
     },
     "execution_count": 30,
     "metadata": {},
     "output_type": "execute_result"
    }
   ],
   "source": [
    "df_gdppc_2 = df_gdppc.loc[:,'1965':'2014']\n",
    "df_gdppc_2.shape"
   ]
  },
  {
   "cell_type": "markdown",
   "metadata": {},
   "source": [
    "Dropping the null values from this new data frame."
   ]
  },
  {
   "cell_type": "code",
   "execution_count": 31,
   "metadata": {
    "scrolled": true
   },
   "outputs": [
    {
     "data": {
      "text/plain": [
       "(93, 50)"
      ]
     },
     "execution_count": 31,
     "metadata": {},
     "output_type": "execute_result"
    }
   ],
   "source": [
    "df_gdppc_2.dropna(inplace=True)\n",
    "df_gdppc_2.shape"
   ]
  },
  {
   "cell_type": "markdown",
   "metadata": {},
   "source": [
    "Calculating the growth based o the mean value for the first and last decades."
   ]
  },
  {
   "cell_type": "code",
   "execution_count": 32,
   "metadata": {},
   "outputs": [],
   "source": [
    "first_decade_mean = df_gdppc_2.loc[:,'2005':'2014'].mean(axis=1)\n",
    "last_deacade_mean = df_gdppc_2.loc[:,'1965':'1974'].mean(axis=1)\n",
    "df_gdppc_2['growth'] = first_decade_mean/last_deacade_mean"
   ]
  },
  {
   "cell_type": "markdown",
   "metadata": {},
   "source": [
    "Sorting the values by the growth"
   ]
  },
  {
   "cell_type": "code",
   "execution_count": 33,
   "metadata": {
    "scrolled": false
   },
   "outputs": [
    {
     "data": {
      "text/html": [
       "<div>\n",
       "<style scoped>\n",
       "    .dataframe tbody tr th:only-of-type {\n",
       "        vertical-align: middle;\n",
       "    }\n",
       "\n",
       "    .dataframe tbody tr th {\n",
       "        vertical-align: top;\n",
       "    }\n",
       "\n",
       "    .dataframe thead th {\n",
       "        text-align: right;\n",
       "    }\n",
       "</style>\n",
       "<table border=\"1\" class=\"dataframe\">\n",
       "  <thead>\n",
       "    <tr style=\"text-align: right;\">\n",
       "      <th></th>\n",
       "      <th>1965</th>\n",
       "      <th>1966</th>\n",
       "      <th>1967</th>\n",
       "      <th>1968</th>\n",
       "      <th>1969</th>\n",
       "      <th>1970</th>\n",
       "      <th>1971</th>\n",
       "      <th>1972</th>\n",
       "      <th>1973</th>\n",
       "      <th>1974</th>\n",
       "      <th>...</th>\n",
       "      <th>2006</th>\n",
       "      <th>2007</th>\n",
       "      <th>2008</th>\n",
       "      <th>2009</th>\n",
       "      <th>2010</th>\n",
       "      <th>2011</th>\n",
       "      <th>2012</th>\n",
       "      <th>2013</th>\n",
       "      <th>2014</th>\n",
       "      <th>growth</th>\n",
       "    </tr>\n",
       "    <tr>\n",
       "      <th>country</th>\n",
       "      <th></th>\n",
       "      <th></th>\n",
       "      <th></th>\n",
       "      <th></th>\n",
       "      <th></th>\n",
       "      <th></th>\n",
       "      <th></th>\n",
       "      <th></th>\n",
       "      <th></th>\n",
       "      <th></th>\n",
       "      <th></th>\n",
       "      <th></th>\n",
       "      <th></th>\n",
       "      <th></th>\n",
       "      <th></th>\n",
       "      <th></th>\n",
       "      <th></th>\n",
       "      <th></th>\n",
       "      <th></th>\n",
       "      <th></th>\n",
       "      <th></th>\n",
       "    </tr>\n",
       "  </thead>\n",
       "  <tbody>\n",
       "    <tr>\n",
       "      <th>China</th>\n",
       "      <td>187.0</td>\n",
       "      <td>202.0</td>\n",
       "      <td>185.0</td>\n",
       "      <td>173.0</td>\n",
       "      <td>197.0</td>\n",
       "      <td>229.0</td>\n",
       "      <td>238.0</td>\n",
       "      <td>241.0</td>\n",
       "      <td>254.0</td>\n",
       "      <td>254.0</td>\n",
       "      <td>...</td>\n",
       "      <td>3060.0</td>\n",
       "      <td>3480.0</td>\n",
       "      <td>3800.0</td>\n",
       "      <td>4130.0</td>\n",
       "      <td>4550</td>\n",
       "      <td>4960.0</td>\n",
       "      <td>5330.0</td>\n",
       "      <td>5710.0</td>\n",
       "      <td>6100.0</td>\n",
       "      <td>20.300926</td>\n",
       "    </tr>\n",
       "    <tr>\n",
       "      <th>South Korea</th>\n",
       "      <td>1160.0</td>\n",
       "      <td>1260.0</td>\n",
       "      <td>1350.0</td>\n",
       "      <td>1490.0</td>\n",
       "      <td>1670.0</td>\n",
       "      <td>1790.0</td>\n",
       "      <td>1940.0</td>\n",
       "      <td>2050.0</td>\n",
       "      <td>2310.0</td>\n",
       "      <td>2490.0</td>\n",
       "      <td>...</td>\n",
       "      <td>20100.0</td>\n",
       "      <td>21200.0</td>\n",
       "      <td>21700.0</td>\n",
       "      <td>21700.0</td>\n",
       "      <td>23100</td>\n",
       "      <td>23800.0</td>\n",
       "      <td>24200.0</td>\n",
       "      <td>24900.0</td>\n",
       "      <td>25500.0</td>\n",
       "      <td>12.872644</td>\n",
       "    </tr>\n",
       "    <tr>\n",
       "      <th>Botswana</th>\n",
       "      <td>497.0</td>\n",
       "      <td>518.0</td>\n",
       "      <td>537.0</td>\n",
       "      <td>581.0</td>\n",
       "      <td>653.0</td>\n",
       "      <td>745.0</td>\n",
       "      <td>910.0</td>\n",
       "      <td>1110.0</td>\n",
       "      <td>1310.0</td>\n",
       "      <td>1370.0</td>\n",
       "      <td>...</td>\n",
       "      <td>6040.0</td>\n",
       "      <td>6400.0</td>\n",
       "      <td>6660.0</td>\n",
       "      <td>6030.0</td>\n",
       "      <td>6430</td>\n",
       "      <td>6730.0</td>\n",
       "      <td>6940.0</td>\n",
       "      <td>7650.0</td>\n",
       "      <td>7860.0</td>\n",
       "      <td>8.070708</td>\n",
       "    </tr>\n",
       "    <tr>\n",
       "      <th>Singapore</th>\n",
       "      <td>4090.0</td>\n",
       "      <td>4390.0</td>\n",
       "      <td>4830.0</td>\n",
       "      <td>5400.0</td>\n",
       "      <td>6050.0</td>\n",
       "      <td>6790.0</td>\n",
       "      <td>7490.0</td>\n",
       "      <td>8330.0</td>\n",
       "      <td>9050.0</td>\n",
       "      <td>9440.0</td>\n",
       "      <td>...</td>\n",
       "      <td>42800.0</td>\n",
       "      <td>44700.0</td>\n",
       "      <td>43200.0</td>\n",
       "      <td>42000.0</td>\n",
       "      <td>47200</td>\n",
       "      <td>49200.0</td>\n",
       "      <td>50100.0</td>\n",
       "      <td>51700.0</td>\n",
       "      <td>53100.0</td>\n",
       "      <td>7.052839</td>\n",
       "    </tr>\n",
       "    <tr>\n",
       "      <th>Myanmar</th>\n",
       "      <td>170.0</td>\n",
       "      <td>158.0</td>\n",
       "      <td>145.0</td>\n",
       "      <td>159.0</td>\n",
       "      <td>160.0</td>\n",
       "      <td>164.0</td>\n",
       "      <td>167.0</td>\n",
       "      <td>167.0</td>\n",
       "      <td>162.0</td>\n",
       "      <td>167.0</td>\n",
       "      <td>...</td>\n",
       "      <td>671.0</td>\n",
       "      <td>747.0</td>\n",
       "      <td>819.0</td>\n",
       "      <td>899.0</td>\n",
       "      <td>979</td>\n",
       "      <td>1030.0</td>\n",
       "      <td>1090.0</td>\n",
       "      <td>1170.0</td>\n",
       "      <td>1260.0</td>\n",
       "      <td>5.721433</td>\n",
       "    </tr>\n",
       "  </tbody>\n",
       "</table>\n",
       "<p>5 rows × 51 columns</p>\n",
       "</div>"
      ],
      "text/plain": [
       "               1965    1966    1967    1968    1969    1970    1971    1972  \\\n",
       "country                                                                       \n",
       "China         187.0   202.0   185.0   173.0   197.0   229.0   238.0   241.0   \n",
       "South Korea  1160.0  1260.0  1350.0  1490.0  1670.0  1790.0  1940.0  2050.0   \n",
       "Botswana      497.0   518.0   537.0   581.0   653.0   745.0   910.0  1110.0   \n",
       "Singapore    4090.0  4390.0  4830.0  5400.0  6050.0  6790.0  7490.0  8330.0   \n",
       "Myanmar       170.0   158.0   145.0   159.0   160.0   164.0   167.0   167.0   \n",
       "\n",
       "               1973    1974  ...     2006     2007     2008     2009   2010  \\\n",
       "country                      ...                                              \n",
       "China         254.0   254.0  ...   3060.0   3480.0   3800.0   4130.0   4550   \n",
       "South Korea  2310.0  2490.0  ...  20100.0  21200.0  21700.0  21700.0  23100   \n",
       "Botswana     1310.0  1370.0  ...   6040.0   6400.0   6660.0   6030.0   6430   \n",
       "Singapore    9050.0  9440.0  ...  42800.0  44700.0  43200.0  42000.0  47200   \n",
       "Myanmar       162.0   167.0  ...    671.0    747.0    819.0    899.0    979   \n",
       "\n",
       "                2011     2012     2013     2014     growth  \n",
       "country                                                     \n",
       "China         4960.0   5330.0   5710.0   6100.0  20.300926  \n",
       "South Korea  23800.0  24200.0  24900.0  25500.0  12.872644  \n",
       "Botswana      6730.0   6940.0   7650.0   7860.0   8.070708  \n",
       "Singapore    49200.0  50100.0  51700.0  53100.0   7.052839  \n",
       "Myanmar       1030.0   1090.0   1170.0   1260.0   5.721433  \n",
       "\n",
       "[5 rows x 51 columns]"
      ]
     },
     "execution_count": 33,
     "metadata": {},
     "output_type": "execute_result"
    }
   ],
   "source": [
    "df_gdppc_2.sort_values(by=['growth'],ascending=False,inplace=True)\n",
    "df_gdppc_2.head(5)"
   ]
  },
  {
   "cell_type": "markdown",
   "metadata": {},
   "source": [
    "For the countries with the fastest growth, it will be plotted the evolution of GDP per capita, agriculture ratio, industry ratio, and services ratio."
   ]
  },
  {
   "cell_type": "code",
   "execution_count": 34,
   "metadata": {},
   "outputs": [
    {
     "name": "stdout",
     "output_type": "stream",
     "text": [
      "Index(['China', 'South Korea', 'Botswana', 'Singapore', 'Myanmar'], dtype='object', name='country')\n"
     ]
    }
   ],
   "source": [
    "index = df_gdppc_2[:5].index\n",
    "print(index)"
   ]
  },
  {
   "cell_type": "code",
   "execution_count": 35,
   "metadata": {},
   "outputs": [
    {
     "data": {
      "image/png": "[encoded data removed]",
      "text/plain": [
       "<Figure size 504x360 with 1 Axes>"
      ]
     },
     "metadata": {},
     "output_type": "display_data"
    }
   ],
   "source": [
    "ax = df_gdppc.loc[index].T.plot.line(figsize=(7,5));\n",
    "ax.set_title('GDP/capita over time (1960-2019)');\n",
    "ax.set_xlabel('Year');\n",
    "ax.set_ylabel('GDP per capita');\n",
    "ax.set_ylim(0,)\n",
    "sns.despine(left=True, bottom=True)"
   ]
  },
  {
   "cell_type": "code",
   "execution_count": 36,
   "metadata": {},
   "outputs": [
    {
     "data": {
      "image/png": "[encoded data removed]",
      "text/plain": [
       "<Figure size 504x360 with 1 Axes>"
      ]
     },
     "metadata": {},
     "output_type": "display_data"
    }
   ],
   "source": [
    "ax = df_agriculture.loc[index].T.plot.line(figsize=(7,5));\n",
    "ax.set_title('Agriculture (%GDP) over time (1960-2019)');\n",
    "ax.set_xlabel('Year');\n",
    "ax.set_ylabel('Agriculture (%GDP)');\n",
    "ax.set_ylim(0,)\n",
    "sns.despine(left=True, bottom=True)"
   ]
  },
  {
   "cell_type": "code",
   "execution_count": 37,
   "metadata": {},
   "outputs": [
    {
     "data": {
      "image/png": "[encoded data removed]",
      "text/plain": [
       "<Figure size 504x360 with 1 Axes>"
      ]
     },
     "metadata": {},
     "output_type": "display_data"
    }
   ],
   "source": [
    "ax = df_industry.loc[index].T.plot.line(figsize=(7,5));\n",
    "ax.set_title('Industry (%GDP) over time (1960-2019)');\n",
    "ax.set_xlabel('Year');\n",
    "ax.set_ylabel('Industry (%GDP)');\n",
    "ax.set_ylim(0,)\n",
    "sns.despine(left=True, bottom=True)"
   ]
  },
  {
   "cell_type": "code",
   "execution_count": 38,
   "metadata": {
    "scrolled": true
   },
   "outputs": [
    {
     "data": {
      "image/png": "[encoded data removed]",
      "text/plain": [
       "<Figure size 504x360 with 1 Axes>"
      ]
     },
     "metadata": {},
     "output_type": "display_data"
    }
   ],
   "source": [
    "ax = df_services.loc[index].T.plot.line(figsize=(7,5));\n",
    "ax.set_title('Services (%GDP) over time (1960-2019)');\n",
    "ax.set_xlabel('Year');\n",
    "ax.set_ylabel('Services (%GDP)');\n",
    "ax.set_ylim(0,)\n",
    "sns.despine(left=True, bottom=True)"
   ]
  },
  {
   "cell_type": "markdown",
   "metadata": {},
   "source": [
    "Except for Botswana, which is from southern Africa, all countries are from Asia.\n",
    "\n",
    "These countries presented a relative growth in the industry sector ratio in the '60s and '70s. From the '80s to now, the service sector had grown faster than the industry and agriculture sectors."
   ]
  },
  {
   "cell_type": "markdown",
   "metadata": {},
   "source": [
    "<a id='conclusions'></a>\n",
    "## Conclusions\n",
    "\n",
    "For the richest countries, the participation of the agriculture sector on the GDP was very low. The most part of the GDP is usually composed of the services sector.\n",
    "\n",
    "The countries that presented the fast growth in the past 5 decades are China, South Korea, Botswana, Singapore, and Myanmar."
   ]
  }
 ],
 "metadata": {
  "kernelspec": {
   "display_name": "Python 3",
   "language": "python",
   "name": "python3"
  },
  "language_info": {
   "codemirror_mode": {
    "name": "ipython",
    "version": 3
   },
   "file_extension": ".py",
   "mimetype": "text/x-python",
   "name": "python",
   "nbconvert_exporter": "python",
   "pygments_lexer": "ipython3",
   "version": "3.8.5"
  }
 },
 "nbformat": 4,
 "nbformat_minor": 2
}
